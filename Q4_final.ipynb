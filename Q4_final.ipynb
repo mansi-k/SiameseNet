{
  "nbformat": 4,
  "nbformat_minor": 0,
  "metadata": {
    "colab": {
      "name": "q4_final.ipynb",
      "provenance": [],
      "collapsed_sections": []
    },
    "kernelspec": {
      "name": "python3",
      "display_name": "Python 3"
    },
    "language_info": {
      "name": "python"
    },
    "accelerator": "GPU"
  },
  "cells": [
    {
      "cell_type": "code",
      "metadata": {
        "id": "H6XwdTloK6db",
        "colab": {
          "base_uri": "https://localhost:8080/"
        },
        "outputId": "42335af3-2dfe-4539-947c-064b262e1ad6"
      },
      "source": [
        "from google.colab import drive\n",
        "drive.mount('/content/drive')\n",
        "%cd /content/drive/MyDrive/SMAI/Assignment3/\n",
        "!pwd"
      ],
      "execution_count": null,
      "outputs": [
        {
          "output_type": "stream",
          "text": [
            "Drive already mounted at /content/drive; to attempt to forcibly remount, call drive.mount(\"/content/drive\", force_remount=True).\n",
            "/content/drive/MyDrive/SMAI/Assignment3\n",
            "/content/drive/MyDrive/SMAI/Assignment3\n"
          ],
          "name": "stdout"
        }
      ]
    },
    {
      "cell_type": "code",
      "metadata": {
        "id": "oPuzkojXVT0Y"
      },
      "source": [
        "import torch\n",
        "import torch.nn as nn\n",
        "import torchvision\n",
        "import numpy as np\n",
        "import matplotlib.pyplot as plt\n",
        "import matplotlib.image as imat\n",
        "import torch.nn as nn\n",
        "import torch.nn.functional as F\n",
        "from torchvision.datasets import MNIST\n",
        "from torchvision.transforms import *\n",
        "from torchvision.utils import make_grid\n",
        "from torch.utils.data.dataloader import DataLoader\n",
        "from torch.utils.data import random_split, ConcatDataset\n",
        "from torch.optim.lr_scheduler import StepLR\n",
        "from torchvision.utils import save_image\n",
        "import os\n",
        "import time\n",
        "import gc\n",
        "import shutil\n",
        "import h5py\n",
        "from PIL import Image\n",
        "from sklearn.decomposition import PCA\n",
        "%matplotlib inline"
      ],
      "execution_count": null,
      "outputs": []
    },
    {
      "cell_type": "markdown",
      "metadata": {
        "id": "B4WFyWKotizp"
      },
      "source": [
        "### Utility functions"
      ]
    },
    {
      "cell_type": "code",
      "metadata": {
        "id": "Q7le3cQHtpXP"
      },
      "source": [
        "device = torch.device(\"cuda\" if torch.cuda.is_available() else \"cpu\")\n",
        "\n",
        "def save_checkpoint(state, is_best, epoch, name):\n",
        "    filename = 'q4_checkpoints/q4_ckpt_'+name\n",
        "    torch.save(state, filename)\n",
        "    if is_best:\n",
        "        shutil.copyfile(filename, filename+'_best')\n",
        "\n",
        "def plot_train(losses, errors):\n",
        "    plt.plot(range(len(losses)), losses, label = \"Train loss\", color='blue', markersize=5, marker='o',markerfacecolor='blue')\n",
        "    plt.plot(range(len(errors)), errors, label = \"Val loss\", color='red', markersize=5, marker='o',markerfacecolor='red')\n",
        "    plt.xlabel('Epochs')\n",
        "    plt.ylabel('Loss')\n",
        "    plt.title('Train vs Val loss')\n",
        "    plt.legend()\n",
        "    plt.show()"
      ],
      "execution_count": null,
      "outputs": []
    },
    {
      "cell_type": "markdown",
      "metadata": {
        "id": "RGrqJKN5vhWr"
      },
      "source": [
        "# **1) Siamese Net with Contrastive loss**"
      ]
    },
    {
      "cell_type": "markdown",
      "metadata": {
        "id": "Uk3YoQ6ldlTH"
      },
      "source": [
        "### Creating Siamese dataloader"
      ]
    },
    {
      "cell_type": "code",
      "metadata": {
        "id": "w2Wg2FeodeaX"
      },
      "source": [
        "class SiameseDataloader():\n",
        "    def __init__(self, batch_size=64):\n",
        "        self.batch_size = batch_size\n",
        "        self.data_index = 0\n",
        "        self.train_dataloader = None\n",
        "        self.test_dataloader = None\n",
        "        self.workers = 2\n",
        "\n",
        "    def load_dataset(self, train):\n",
        "        transform = transforms.Compose([transforms.ToTensor(), transforms.Normalize((0.5), (0.5))])\n",
        "        os.makedirs(\"data/mnist\", exist_ok=True)\n",
        "        train_dataset = MNIST(root='data/mnist', train=True, download=True, transform=transform)\n",
        "        test_dataset = MNIST(root='data/mnist', train=False, transform=transform)\n",
        "        # print(len(train_dataset), len(test_dataset))\n",
        "        self.train_dataloader = DataLoader(train_dataset, self.batch_size, shuffle=True) \n",
        "        self.test_dataloader = DataLoader(test_dataset, 1, shuffle=True)\n",
        "        if train:\n",
        "            return train_dataset\n",
        "        else:\n",
        "            return test_dataset\n",
        "        \n",
        "    def generate_batch(self, train):\n",
        "        if train:\n",
        "            data_iter = iter(self.train_dataloader)\n",
        "        else:\n",
        "            data_iter = iter(self.test_dataloader)\n",
        "        input_1, label_1 = next(data_iter)\n",
        "        input_2, label_2 = next(data_iter)\n",
        "        # print(type(input_1),type(label_1))\n",
        "        np_label_1 = label_1\n",
        "        np_label_2 = label_2\n",
        "        label = (np_label_1 == np_label_2).float()\n",
        "        return input_1, input_2, label"
      ],
      "execution_count": null,
      "outputs": []
    },
    {
      "cell_type": "markdown",
      "metadata": {
        "id": "UQu6bLC1itFK"
      },
      "source": [
        "### Defining Simaese network"
      ]
    },
    {
      "cell_type": "code",
      "metadata": {
        "id": "biGgHgacGZqp"
      },
      "source": [
        "class SiameseNet(nn.Module):\n",
        "    def __init__(self, ctl=False):\n",
        "        super(SiameseNet, self).__init__()\n",
        "        self.ctl = ctl\n",
        "        self.convblock = nn.Sequential(\n",
        "            nn.Conv2d(1, 32, 5), \n",
        "            nn.PReLU(), \n",
        "            nn.MaxPool2d(2, stride=2),\n",
        "            nn.Conv2d(32, 64, 3), \n",
        "            nn.PReLU(),\n",
        "            nn.MaxPool2d(2, stride=2)\n",
        "        )\n",
        "        self.denseblock = nn.Sequential(\n",
        "            nn.Linear(1600, 512),\n",
        "            nn.PReLU(),\n",
        "            nn.Linear(512, 256),\n",
        "            nn.PReLU(),\n",
        "            nn.Linear(256, 8)\n",
        "        )\n",
        "        self.catblock = nn.Sequential(\n",
        "            nn.Linear(16, 1),\n",
        "            nn.Sigmoid()\n",
        "        )\n",
        "\n",
        "    def forward_once(self, x):\n",
        "        X = self.convblock(x)\n",
        "        X = X.view(X.size()[0], -1)\n",
        "        # print(X.shape)\n",
        "        X = self.denseblock(X)\n",
        "        return X\n",
        "\n",
        "    def forward(self, x1, x2):\n",
        "        output1 = self.forward_once(x1)\n",
        "        output2 = self.forward_once(x2)\n",
        "        if self.ctl:\n",
        "            return output1, output2\n",
        "        else:\n",
        "            output = torch.cat((output1, output2), 1)\n",
        "            output = self.catblock(output)\n",
        "            return output"
      ],
      "execution_count": null,
      "outputs": []
    },
    {
      "cell_type": "markdown",
      "metadata": {
        "id": "H8HN2NvtjZ48"
      },
      "source": [
        "### Defining Contrastive loss"
      ]
    },
    {
      "cell_type": "code",
      "metadata": {
        "id": "NGANd2B9GYXI"
      },
      "source": [
        "class ContrastiveLoss(torch.nn.Module):\n",
        "    def __init__(self, margin=1.0):\n",
        "        super(ContrastiveLoss, self).__init__()\n",
        "        self.margin = margin\n",
        "        self.eps = 1e-9\n",
        "\n",
        "    def forward(self, x0, x1, y):\n",
        "        euclid_dists = (x1 - x0).pow(2).sum(1)\n",
        "        losses = 0.5 * (y * euclid_dists + (1 - y) * nn.functional.relu(self.margin - (euclid_dists + self.eps).sqrt()).pow(2))\n",
        "        # print('losses',losses)\n",
        "        return losses.mean()"
      ],
      "execution_count": null,
      "outputs": []
    },
    {
      "cell_type": "markdown",
      "metadata": {
        "id": "xLFC0Js7oK2E"
      },
      "source": [
        "### Defining Siamese trainer"
      ]
    },
    {
      "cell_type": "code",
      "metadata": {
        "id": "eS-lauaCn1z3"
      },
      "source": [
        "class Siamese_Trainer(object):\n",
        "    def __init__(self, device, ckpt_name, load_ckpt=None, losstype=None, epochs=200, batch_size=128, lr=0.1, optm=None, mom=0.9, weight_decay=0):\n",
        "        self.device = device\n",
        "        self.lr =  lr\n",
        "        self.momentum = mom\n",
        "        self.batch_size = batch_size\n",
        "        self.start_epoch = 0\n",
        "        self.epochs = epochs\n",
        "        self.workers = 0\n",
        "        self.seed = int(time.time())\n",
        "        self.print_freq = 1\n",
        "        self.checkpoint_path = load_ckpt #'q1_checkpoints/q1_ckpt_CNN_a_best2'\n",
        "        self.best_error = 1e8\n",
        "        self.best_epoch = 0\n",
        "        self.ckpt_name = ckpt_name\n",
        "        self.loss_history = []\n",
        "        self.error_history = []\n",
        "        self.weight_decay = weight_decay\n",
        "        self.losstype = losstype\n",
        "\n",
        "        torch.cuda.manual_seed(self.seed)\n",
        "        print(self.device,torch.cuda.get_device_name(0))\n",
        "\n",
        "        self.model = SiameseNet(ctl=False).cuda() if losstype=='CE' else SiameseNet().cuda()\n",
        "        # print(self.model)\n",
        "        if optm=='sgd':\n",
        "            self.optimizer = torch.optim.SGD(self.model.parameters(), self.lr, momentum=self.momentum, weight_decay=self.weight_decay)\n",
        "        elif optm=='adam':\n",
        "            self.optimizer = torch.optim.Adam(self.model.parameters(), self.lr, weight_decay=self.weight_decay)\n",
        "        elif optm=='rms':\n",
        "            self.optimizer = torch.optim.RMSprop(self.model.parameters(), self.lr, momentum=self.momentum, weight_decay=self.weight_decay)\n",
        "        self.criterion = nn.BCELoss().cuda() if losstype=='CE' else ContrastiveLoss().cuda()\n",
        "        \n",
        "        if self.checkpoint_path:\n",
        "            checkpoint = torch.load(self.checkpoint_path)\n",
        "            self.model.load_state_dict(checkpoint['model_state_dict'])\n",
        "            self.optimizer.load_state_dict(checkpoint['optimizer_state_dict'])\n",
        "            self.start_epoch = checkpoint['epoch']+1\n",
        "            loss = checkpoint['loss']\n",
        "            self.best_error = checkpoint['best_error']\n",
        "            self.best_epoch = checkpoint['best_epoch']\n",
        "        \n",
        "    def train(self):\n",
        "        for epoch in range(self.start_epoch, self.epochs):\n",
        "            self.dataloader = SiameseDataloader()\n",
        "            trainset = self.dataloader.load_dataset(True)\n",
        "            valset = self.dataloader.load_dataset(False)\n",
        "            train_loader_size = round(len(trainset) / self.batch_size)\n",
        "            val_loader_size = round(len(valset) / self.batch_size)\n",
        "            loss = 0\n",
        "            error = 0\n",
        "            if self.losstype=='CE':\n",
        "                for t_batch in range(0,train_loader_size):\n",
        "                    loss += self.train_epoch_CE(t_batch)\n",
        "                for v_batch in range(0,val_loader_size):\n",
        "                    error += self.validate_CE(v_batch)\n",
        "            else:\n",
        "                for t_batch in range(0,train_loader_size):\n",
        "                    loss += self.train_epoch_CT(t_batch)\n",
        "                for v_batch in range(0,val_loader_size):\n",
        "                    error += self.validate_CT(v_batch)\n",
        "            loss /= train_loader_size            \n",
        "            error /= val_loader_size\n",
        "            if error < self.best_error:\n",
        "                is_best = True\n",
        "                self.best_epoch = epoch\n",
        "            else:\n",
        "                is_best = False\n",
        "            self.loss_history.append(loss)\n",
        "            self.error_history.append(error)\n",
        "            self.best_error = min(error, self.best_error)\n",
        "            print('Epoch:'+str(epoch),'  Loss:'+str(round(loss,3)),'  Val error:'+str(round(error,3)),'  Best val error:'+str(round(self.best_error,3)))\n",
        "            save_checkpoint({\n",
        "                'epoch': epoch,\n",
        "                'model_state_dict': self.model.state_dict(),\n",
        "                'optimizer_state_dict': self.optimizer.state_dict(),\n",
        "                'loss': loss,\n",
        "                'best_error': self.best_error,\n",
        "                'best_epoch': self.best_epoch\n",
        "            }, is_best, epoch, self.ckpt_name)\n",
        "        return self.best_epoch, self.loss_history, self.error_history\n",
        "\n",
        "    def train_epoch_CT(self, cur_epoch):        \n",
        "        loss = 0\n",
        "        out_imgs = None\n",
        "        input1, input2, target = self.dataloader.generate_batch(True)\n",
        "        input1 = input1.to(self.device)\n",
        "        input2 = input2.to(self.device)\n",
        "        # plt.figure(dpi=100)\n",
        "        # plt.margins(0,0)\n",
        "        # plt.imshow(input1[0][0].cpu().numpy())\n",
        "        # plt.figure(dpi=100)\n",
        "        # plt.margins(0,0)\n",
        "        # plt.imshow(input2[0][0].cpu().numpy())\n",
        "        target = target.to(self.device)\n",
        "        # print('label',target)\n",
        "        with torch.set_grad_enabled(True):\n",
        "            out1, out2 = self.model(input1, input2)\n",
        "            loss = self.criterion(out1, out2, target)\n",
        "            self.optimizer.zero_grad()\n",
        "            loss.backward()\n",
        "            self.optimizer.step()\n",
        "        torch.cuda.empty_cache()\n",
        "        gc.collect()\n",
        "        # print(loss.item())\n",
        "        # input()\n",
        "        return loss.detach().cpu().item()\n",
        "\n",
        "    def train_epoch_CE(self, cur_epoch):        \n",
        "        loss = 0\n",
        "        out_imgs = None\n",
        "        input1, input2, target = self.dataloader.generate_batch(True)\n",
        "        input1 = input1.to(self.device)\n",
        "        input2 = input2.to(self.device)\n",
        "        target = target.to(self.device)\n",
        "        with torch.set_grad_enabled(True):\n",
        "            output = self.model(input1, input2).squeeze(-1)\n",
        "            # euclid_dists = torch.sigmoid((out2 - out1).pow(2).sum(1))\n",
        "            # euclid_dists = torch.sigmoid(out1 * out2).squeeze(-1)\n",
        "            # print(euclid_dists.shape, target.shape)\n",
        "            loss = self.criterion(output, target)\n",
        "            # print(loss.item())\n",
        "            self.optimizer.zero_grad()\n",
        "            loss.backward()\n",
        "            self.optimizer.step()\n",
        "        torch.cuda.empty_cache()\n",
        "        gc.collect()\n",
        "        return loss.detach().cpu().item()\n",
        "    \n",
        "    def validate_CT(self, cur_epoch):     \n",
        "        self.model.eval()        \n",
        "        loss = 0\n",
        "        out_imgs = None\n",
        "        input1, input2, target = self.dataloader.generate_batch(False)\n",
        "        input1 = input1.to(self.device)\n",
        "        input2 = input2.to(self.device)\n",
        "        target = target.to(self.device)\n",
        "        with torch.set_grad_enabled(False):\n",
        "            out1, out2 = self.model(input1, input2)\n",
        "            loss = self.criterion(out1, out2, target)\n",
        "        torch.cuda.empty_cache()\n",
        "        gc.collect()\n",
        "        return loss.detach().cpu().item()\n",
        "\n",
        "    def validate_CE(self, cur_epoch):     \n",
        "        self.model.eval()        \n",
        "        loss = 0\n",
        "        out_imgs = None\n",
        "        input1, input2, target = self.dataloader.generate_batch(False)\n",
        "        input1 = input1.to(self.device)\n",
        "        input2 = input2.to(self.device)\n",
        "        target = target.to(self.device)\n",
        "        with torch.set_grad_enabled(False):\n",
        "            output = self.model(input1, input2).squeeze(-1)\n",
        "            loss = self.criterion(output, target)\n",
        "        torch.cuda.empty_cache()\n",
        "        gc.collect()\n",
        "        return loss.detach().cpu().item()\n"
      ],
      "execution_count": null,
      "outputs": []
    },
    {
      "cell_type": "markdown",
      "metadata": {
        "id": "bUhYnN2L9n_r"
      },
      "source": [
        "### Training SiameseNet with Contrastive loss and Adam optimizer"
      ]
    },
    {
      "cell_type": "code",
      "metadata": {
        "colab": {
          "base_uri": "https://localhost:8080/",
          "height": 669
        },
        "id": "r7v3iYvciKxm",
        "outputId": "02689771-cba2-4e11-bbfc-810e170a24c7"
      },
      "source": [
        "sma_trainer = Siamese_Trainer(device, 'Siam_a', lr=0.0001, epochs=20, optm='adam', mom=0.9)\n",
        "sma_best_epoch, sma_losses, sma_errors = sma_trainer.train()\n",
        "plot_train(sma_losses, sma_errors)\n",
        "print('Best epoch:',sma_best_epoch)"
      ],
      "execution_count": null,
      "outputs": [
        {
          "output_type": "stream",
          "text": [
            "cuda Tesla T4\n",
            "Epoch:0   Loss:0.103   Val error:0.117   Best val error:0.117\n",
            "Epoch:1   Loss:0.076   Val error:0.051   Best val error:0.051\n",
            "Epoch:2   Loss:0.065   Val error:0.056   Best val error:0.051\n",
            "Epoch:3   Loss:0.059   Val error:0.039   Best val error:0.039\n",
            "Epoch:4   Loss:0.054   Val error:0.046   Best val error:0.039\n",
            "Epoch:5   Loss:0.051   Val error:0.048   Best val error:0.039\n",
            "Epoch:6   Loss:0.049   Val error:0.043   Best val error:0.039\n",
            "Epoch:7   Loss:0.048   Val error:0.101   Best val error:0.039\n",
            "Epoch:8   Loss:0.044   Val error:0.03   Best val error:0.03\n",
            "Epoch:9   Loss:0.04   Val error:0.025   Best val error:0.025\n",
            "Epoch:10   Loss:0.037   Val error:0.027   Best val error:0.025\n",
            "Epoch:11   Loss:0.035   Val error:0.028   Best val error:0.025\n",
            "Epoch:12   Loss:0.033   Val error:0.036   Best val error:0.025\n",
            "Epoch:13   Loss:0.034   Val error:0.024   Best val error:0.024\n",
            "Epoch:14   Loss:0.031   Val error:0.032   Best val error:0.024\n",
            "Epoch:15   Loss:0.028   Val error:0.013   Best val error:0.013\n",
            "Epoch:16   Loss:0.026   Val error:0.032   Best val error:0.013\n",
            "Epoch:17   Loss:0.024   Val error:0.02   Best val error:0.013\n",
            "Epoch:18   Loss:0.024   Val error:0.017   Best val error:0.013\n",
            "Epoch:19   Loss:0.022   Val error:0.011   Best val error:0.011\n"
          ],
          "name": "stdout"
        },
        {
          "output_type": "display_data",
          "data": {
            "image/png": "[encoded data removed]",
            "text/plain": [
              "<Figure size 432x288 with 1 Axes>"
            ]
          },
          "metadata": {
            "tags": [],
            "needs_background": "light"
          }
        },
        {
          "output_type": "stream",
          "text": [
            "Best epoch: 19\n"
          ],
          "name": "stdout"
        }
      ]
    },
    {
      "cell_type": "markdown",
      "metadata": {
        "id": "kCzbIG-K_GBh"
      },
      "source": [
        "### Training SiameseNet with Contrastive loss and SGD optimizer"
      ]
    },
    {
      "cell_type": "code",
      "metadata": {
        "colab": {
          "base_uri": "https://localhost:8080/",
          "height": 669
        },
        "id": "IdNSIgjI_FGQ",
        "outputId": "7c21eba4-bd59-4fac-bf32-ccd02017fb56"
      },
      "source": [
        "sms_trainer = Siamese_Trainer(device, 'Siam_s', lr=0.0001, epochs=20, optm='sgd', mom=0.9)\n",
        "sms_best_epoch, sms_losses, sms_errors = sms_trainer.train()\n",
        "plot_train(sms_losses, sms_errors)\n",
        "print('Best epoch:',sms_best_epoch)"
      ],
      "execution_count": null,
      "outputs": [
        {
          "output_type": "stream",
          "text": [
            "cuda Tesla T4\n",
            "Epoch:0   Loss:0.4   Val error:0.347   Best val error:0.347\n",
            "Epoch:1   Loss:0.251   Val error:0.155   Best val error:0.155\n",
            "Epoch:2   Loss:0.144   Val error:0.121   Best val error:0.121\n",
            "Epoch:3   Loss:0.123   Val error:0.104   Best val error:0.104\n",
            "Epoch:4   Loss:0.116   Val error:0.134   Best val error:0.104\n",
            "Epoch:5   Loss:0.117   Val error:0.085   Best val error:0.085\n",
            "Epoch:6   Loss:0.113   Val error:0.098   Best val error:0.085\n",
            "Epoch:7   Loss:0.112   Val error:0.081   Best val error:0.081\n",
            "Epoch:8   Loss:0.111   Val error:0.13   Best val error:0.081\n",
            "Epoch:9   Loss:0.109   Val error:0.088   Best val error:0.081\n",
            "Epoch:10   Loss:0.11   Val error:0.074   Best val error:0.074\n",
            "Epoch:11   Loss:0.106   Val error:0.126   Best val error:0.074\n",
            "Epoch:12   Loss:0.105   Val error:0.111   Best val error:0.074\n",
            "Epoch:13   Loss:0.102   Val error:0.135   Best val error:0.074\n",
            "Epoch:14   Loss:0.103   Val error:0.095   Best val error:0.074\n",
            "Epoch:15   Loss:0.101   Val error:0.088   Best val error:0.074\n",
            "Epoch:16   Loss:0.1   Val error:0.069   Best val error:0.069\n",
            "Epoch:17   Loss:0.098   Val error:0.112   Best val error:0.069\n",
            "Epoch:18   Loss:0.097   Val error:0.103   Best val error:0.069\n",
            "Epoch:19   Loss:0.095   Val error:0.099   Best val error:0.069\n"
          ],
          "name": "stdout"
        },
        {
          "output_type": "display_data",
          "data": {
            "image/png": "[encoded data removed]",
            "text/plain": [
              "<Figure size 432x288 with 1 Axes>"
            ]
          },
          "metadata": {
            "tags": [],
            "needs_background": "light"
          }
        },
        {
          "output_type": "stream",
          "text": [
            "Best epoch: 16\n"
          ],
          "name": "stdout"
        }
      ]
    },
    {
      "cell_type": "markdown",
      "metadata": {
        "id": "qHnoiMB7d3X_"
      },
      "source": [
        "### Training SiameseNet with Contrastive loss and RMSprop optimizer\n",
        "\n"
      ]
    },
    {
      "cell_type": "code",
      "metadata": {
        "id": "0pcwfJyjd17H",
        "colab": {
          "base_uri": "https://localhost:8080/",
          "height": 669
        },
        "outputId": "97b7c0f6-a8aa-4fb0-f789-576b48608755"
      },
      "source": [
        "smr_trainer = Siamese_Trainer(device, 'Siam_r', lr=0.0001, epochs=20, optm='rms', mom=0.9)\n",
        "smr_best_epoch, smr_losses, smr_errors = smr_trainer.train()\n",
        "plot_train(smr_losses, smr_errors)\n",
        "print('Best epoch:',smr_best_epoch)"
      ],
      "execution_count": null,
      "outputs": [
        {
          "output_type": "stream",
          "text": [
            "cuda Tesla T4\n",
            "Epoch:0   Loss:0.104   Val error:0.065   Best val error:0.065\n",
            "Epoch:1   Loss:0.082   Val error:0.089   Best val error:0.065\n",
            "Epoch:2   Loss:0.073   Val error:0.061   Best val error:0.061\n",
            "Epoch:3   Loss:0.063   Val error:0.085   Best val error:0.061\n",
            "Epoch:4   Loss:0.056   Val error:0.052   Best val error:0.052\n",
            "Epoch:5   Loss:0.045   Val error:0.017   Best val error:0.017\n",
            "Epoch:6   Loss:0.039   Val error:0.034   Best val error:0.017\n",
            "Epoch:7   Loss:0.033   Val error:0.031   Best val error:0.017\n",
            "Epoch:8   Loss:0.027   Val error:0.008   Best val error:0.008\n",
            "Epoch:9   Loss:0.03   Val error:0.014   Best val error:0.008\n",
            "Epoch:10   Loss:0.026   Val error:0.036   Best val error:0.008\n",
            "Epoch:11   Loss:0.026   Val error:0.021   Best val error:0.008\n",
            "Epoch:12   Loss:0.023   Val error:0.017   Best val error:0.008\n",
            "Epoch:13   Loss:0.022   Val error:0.013   Best val error:0.008\n",
            "Epoch:14   Loss:0.021   Val error:0.015   Best val error:0.008\n",
            "Epoch:15   Loss:0.025   Val error:0.021   Best val error:0.008\n",
            "Epoch:16   Loss:0.019   Val error:0.013   Best val error:0.008\n",
            "Epoch:17   Loss:0.018   Val error:0.006   Best val error:0.006\n",
            "Epoch:18   Loss:0.019   Val error:0.005   Best val error:0.005\n",
            "Epoch:19   Loss:0.016   Val error:0.012   Best val error:0.005\n"
          ],
          "name": "stdout"
        },
        {
          "output_type": "display_data",
          "data": {
            "image/png": "[encoded data removed]",
            "text/plain": [
              "<Figure size 432x288 with 1 Axes>"
            ]
          },
          "metadata": {
            "tags": [],
            "needs_background": "light"
          }
        },
        {
          "output_type": "stream",
          "text": [
            "Best epoch: 18\n"
          ],
          "name": "stdout"
        }
      ]
    },
    {
      "cell_type": "markdown",
      "metadata": {
        "id": "GWlBHX04AxB3"
      },
      "source": [
        "--------------------------------------------------------------------------------"
      ]
    },
    {
      "cell_type": "markdown",
      "metadata": {
        "id": "Zix8lUGk-drP"
      },
      "source": [
        "# **2) SiameseNet with regularized cross entropy loss**"
      ]
    },
    {
      "cell_type": "markdown",
      "metadata": {
        "id": "pVkEhP5jE0d_"
      },
      "source": [
        "### Training SiameseNet with regularized cross entropy loss and Adam optimizer"
      ]
    },
    {
      "cell_type": "code",
      "metadata": {
        "colab": {
          "base_uri": "https://localhost:8080/",
          "height": 669
        },
        "id": "_ZOUlkJq-haw",
        "outputId": "10a32f1b-a0da-482b-96fe-d785114983f6"
      },
      "source": [
        "ema_trainer = Siamese_Trainer(device, 'Ent_a', lr=0.000001, epochs=20, optm='adam', mom=0.9, losstype='CE', weight_decay=1e-4)\n",
        "ema_best_epoch, ema_losses, ema_errors = ema_trainer.train()\n",
        "plot_train(ema_losses, ema_errors)\n",
        "print('Best epoch:',ema_best_epoch)"
      ],
      "execution_count": null,
      "outputs": [
        {
          "output_type": "stream",
          "text": [
            "cuda Tesla T4\n",
            "Epoch:0   Loss:0.71   Val error:0.575   Best val error:0.575\n",
            "Epoch:1   Loss:0.467   Val error:0.33   Best val error:0.33\n",
            "Epoch:2   Loss:0.349   Val error:0.238   Best val error:0.238\n",
            "Epoch:3   Loss:0.33   Val error:0.302   Best val error:0.238\n",
            "Epoch:4   Loss:0.324   Val error:0.304   Best val error:0.238\n",
            "Epoch:5   Loss:0.328   Val error:0.275   Best val error:0.238\n",
            "Epoch:6   Loss:0.323   Val error:0.218   Best val error:0.218\n",
            "Epoch:7   Loss:0.322   Val error:0.479   Best val error:0.218\n",
            "Epoch:8   Loss:0.33   Val error:0.362   Best val error:0.218\n",
            "Epoch:9   Loss:0.332   Val error:0.387   Best val error:0.218\n",
            "Epoch:10   Loss:0.325   Val error:0.437   Best val error:0.218\n",
            "Epoch:11   Loss:0.33   Val error:0.245   Best val error:0.218\n",
            "Epoch:12   Loss:0.322   Val error:0.214   Best val error:0.214\n",
            "Epoch:13   Loss:0.33   Val error:0.331   Best val error:0.214\n",
            "Epoch:14   Loss:0.328   Val error:0.25   Best val error:0.214\n",
            "Epoch:15   Loss:0.329   Val error:0.219   Best val error:0.214\n",
            "Epoch:16   Loss:0.325   Val error:0.356   Best val error:0.214\n",
            "Epoch:17   Loss:0.323   Val error:0.331   Best val error:0.214\n",
            "Epoch:18   Loss:0.329   Val error:0.248   Best val error:0.214\n",
            "Epoch:19   Loss:0.329   Val error:0.303   Best val error:0.214\n"
          ],
          "name": "stdout"
        },
        {
          "output_type": "display_data",
          "data": {
            "image/png": "[encoded data removed]",
            "text/plain": [
              "<Figure size 432x288 with 1 Axes>"
            ]
          },
          "metadata": {
            "tags": [],
            "needs_background": "light"
          }
        },
        {
          "output_type": "stream",
          "text": [
            "Best epoch: 12\n"
          ],
          "name": "stdout"
        }
      ]
    },
    {
      "cell_type": "markdown",
      "metadata": {
        "id": "3bEw9VLYX-Hg"
      },
      "source": [
        "-------------------------------------------------------------------------------"
      ]
    },
    {
      "cell_type": "markdown",
      "metadata": {
        "id": "w2YmHOLyYLX9"
      },
      "source": [
        "# **3) Siamese - TripletNet**"
      ]
    },
    {
      "cell_type": "markdown",
      "metadata": {
        "id": "Wph9cBPEYCth"
      },
      "source": [
        "### Creating dataloader for Siamese TripleNet"
      ]
    },
    {
      "cell_type": "code",
      "metadata": {
        "id": "vl2OHtR2YO5F"
      },
      "source": [
        "def load_dataset():\n",
        "    transform = transforms.Compose([transforms.ToTensor(), transforms.Normalize((0.5), (0.5))])\n",
        "    os.makedirs(\"data/mnist\", exist_ok=True)\n",
        "    train_dataset = MNIST(root='data/mnist', train=True, download=True, transform=transform)\n",
        "    test_dataset = MNIST(root='data/mnist', train=False, transform=transform)\n",
        "    # print(len(train_dataset), len(test_dataset))\n",
        "    return train_dataset, test_dataset\n",
        "\n",
        "class TripletDataloader():\n",
        "    def __init__(self, mnist_dataset):\n",
        "        self.mnist_dataset = mnist_dataset\n",
        "        self.train = self.mnist_dataset.train\n",
        "        self.transform = self.mnist_dataset.transform\n",
        "\n",
        "        if self.train:\n",
        "            self.train_labels = self.mnist_dataset.train_labels\n",
        "            self.train_data = self.mnist_dataset.train_data\n",
        "            self.labels_set = set(self.train_labels.numpy())\n",
        "            self.label_to_indices = {label: np.where(self.train_labels.numpy() == label)[0]\n",
        "                                     for label in self.labels_set}\n",
        "\n",
        "        else:\n",
        "            self.test_labels = self.mnist_dataset.test_labels\n",
        "            self.test_data = self.mnist_dataset.test_data\n",
        "            # generate fixed triplets for testing\n",
        "            self.labels_set = set(self.test_labels.numpy())\n",
        "            self.label_to_indices = {label: np.where(self.test_labels.numpy() == label)[0]\n",
        "                                     for label in self.labels_set}\n",
        "\n",
        "            random_state = np.random.RandomState(10)\n",
        "\n",
        "            triplets = [[i,\n",
        "                         random_state.choice(self.label_to_indices[self.test_labels[i].item()]),\n",
        "                         random_state.choice(self.label_to_indices[\n",
        "                                                 np.random.choice(\n",
        "                                                     list(self.labels_set - set([self.test_labels[i].item()]))\n",
        "                                                 )\n",
        "                                             ])\n",
        "                         ]\n",
        "                        for i in range(len(self.test_data))]\n",
        "            self.test_triplets = triplets\n",
        "\n",
        "    def __getitem__(self, index):\n",
        "        if self.train:\n",
        "            img1, label1 = self.train_data[index], self.train_labels[index].item()\n",
        "            positive_index = index\n",
        "            while positive_index == index:\n",
        "                positive_index = np.random.choice(self.label_to_indices[label1])\n",
        "            negative_label = np.random.choice(list(self.labels_set - set([label1])))\n",
        "            negative_index = np.random.choice(self.label_to_indices[negative_label])\n",
        "            img2 = self.train_data[positive_index]\n",
        "            img3 = self.train_data[negative_index]\n",
        "        else:\n",
        "            img1 = self.test_data[self.test_triplets[index][0]]\n",
        "            img2 = self.test_data[self.test_triplets[index][1]]\n",
        "            img3 = self.test_data[self.test_triplets[index][2]]\n",
        "\n",
        "        img1 = Image.fromarray(img1.numpy(), mode='L')\n",
        "        img2 = Image.fromarray(img2.numpy(), mode='L')\n",
        "        img3 = Image.fromarray(img3.numpy(), mode='L')\n",
        "        # print(type(img1),img1.size)\n",
        "        if self.transform is not None:\n",
        "            img1 = self.transform(img1)\n",
        "            img2 = self.transform(img2)\n",
        "            img3 = self.transform(img3)\n",
        "        return (img1, img2, img3), []\n",
        "\n",
        "    def __len__(self):\n",
        "        return len(self.mnist_dataset)"
      ],
      "execution_count": null,
      "outputs": []
    },
    {
      "cell_type": "markdown",
      "metadata": {
        "id": "TXMyeOWbnfKc"
      },
      "source": [
        "### Defining TripletNet"
      ]
    },
    {
      "cell_type": "code",
      "metadata": {
        "id": "U2CWRFsWneu1"
      },
      "source": [
        "class TripletNet(nn.Module):\n",
        "    def __init__(self):\n",
        "        super(TripletNet, self).__init__()\n",
        "        self.convblock = nn.Sequential(\n",
        "            nn.Conv2d(1, 32, 5), \n",
        "            nn.PReLU(), \n",
        "            nn.MaxPool2d(2, stride=2),\n",
        "            nn.Conv2d(32, 64, 3), \n",
        "            nn.PReLU(),\n",
        "            nn.MaxPool2d(2, stride=2)\n",
        "        )\n",
        "        self.denseblock = nn.Sequential(\n",
        "            nn.Linear(1600, 512),\n",
        "            nn.PReLU(),\n",
        "            nn.Linear(512, 256),\n",
        "            nn.PReLU(),\n",
        "            nn.Linear(256, 1)\n",
        "        )\n",
        "\n",
        "    def forward_once(self, x):\n",
        "        X = self.convblock(x)\n",
        "        X = X.view(X.size()[0], -1)\n",
        "        # print(X.shape)\n",
        "        X = self.denseblock(X)\n",
        "        return X\n",
        "\n",
        "    def forward(self, x1, x2, x3):\n",
        "        output1 = self.forward_once(x1)\n",
        "        output2 = self.forward_once(x2)\n",
        "        output3 = self.forward_once(x3)\n",
        "        return output1, output2, output3"
      ],
      "execution_count": null,
      "outputs": []
    },
    {
      "cell_type": "markdown",
      "metadata": {
        "id": "IETqz97Jigdb"
      },
      "source": [
        "### Defining Triplet loss"
      ]
    },
    {
      "cell_type": "code",
      "metadata": {
        "id": "Qr-1kaJldHCq"
      },
      "source": [
        "class TripletLoss(nn.Module):\n",
        "    def __init__(self, margin=1.0):\n",
        "        super(TripletLoss, self).__init__()\n",
        "        self.margin = margin\n",
        "\n",
        "    def forward(self, anchor, positive, negative, size_average=True):\n",
        "        distance_positive = (anchor - positive).pow(2).sum(1)  # .pow(.5)\n",
        "        distance_negative = (anchor - negative).pow(2).sum(1)  # .pow(.5)\n",
        "        losses = nn.functional.relu(distance_positive - distance_negative + self.margin)\n",
        "        return losses.mean()"
      ],
      "execution_count": null,
      "outputs": []
    },
    {
      "cell_type": "code",
      "metadata": {
        "id": "Fr0KsfvReL-j"
      },
      "source": [
        "class Triplet_Trainer(object):\n",
        "    def __init__(self, device, ckpt_name, load_ckpt=None, epochs=200, batch_size=128, lr=0.1, optm=None, mom=0.9, weight_decay=0):\n",
        "        self.device = device\n",
        "        self.lr =  lr\n",
        "        self.momentum = mom\n",
        "        self.batch_size = batch_size\n",
        "        self.start_epoch = 0\n",
        "        self.epochs = epochs\n",
        "        self.workers = 0\n",
        "        self.seed = int(time.time())\n",
        "        self.print_freq = 1\n",
        "        self.checkpoint_path = load_ckpt #'q1_checkpoints/q1_ckpt_CNN_a_best2'\n",
        "        self.best_error = 1e8\n",
        "        self.best_epoch = 0\n",
        "        self.ckpt_name = ckpt_name\n",
        "        self.loss_history = []\n",
        "        self.error_history = []\n",
        "\n",
        "        torch.cuda.manual_seed(self.seed)\n",
        "        print(self.device,torch.cuda.get_device_name(0))\n",
        "\n",
        "        self.model = TripletNet().cuda()\n",
        "        # print(self.model)\n",
        "        if optm=='sgd':\n",
        "            self.optimizer = torch.optim.SGD(self.model.parameters(), self.lr, momentum=self.momentum)\n",
        "        elif optm=='adam':\n",
        "            self.optimizer = torch.optim.Adam(self.model.parameters(), self.lr)\n",
        "        elif optm=='rms':\n",
        "            self.optimizer = torch.optim.RMSprop(self.model.parameters(), self.lr, momentum=self.momentum)\n",
        "        self.criterion = TripletLoss().cuda()\n",
        "        \n",
        "        if self.checkpoint_path:\n",
        "            checkpoint = torch.load(self.checkpoint_path)\n",
        "            self.model.load_state_dict(checkpoint['model_state_dict'])\n",
        "            self.optimizer.load_state_dict(checkpoint['optimizer_state_dict'])\n",
        "            self.start_epoch = checkpoint['epoch']+1\n",
        "            loss = checkpoint['loss']\n",
        "            self.best_error = checkpoint['best_error']\n",
        "            self.best_epoch = checkpoint['best_epoch']\n",
        "        \n",
        "    def train(self):\n",
        "        for epoch in range(self.start_epoch, self.epochs):\n",
        "            trainset, valset = load_dataset()\n",
        "            self.train_loader = torch.utils.data.DataLoader(TripletDataloader(trainset), batch_size=self.batch_size, shuffle=True)\n",
        "            self.val_loader = torch.utils.data.DataLoader(TripletDataloader(valset), batch_size=self.batch_size, shuffle=False)\n",
        "            loss = self.train_epoch(epoch)\n",
        "            if epoch%1 != 0:\n",
        "                print('Epoch:'+str(epoch),'  Loss:'+str(round(loss,3)))\n",
        "                continue\n",
        "            error = self.validate(epoch)\n",
        "            if error < self.best_error:\n",
        "                is_best = True\n",
        "                self.best_epoch = epoch\n",
        "            else:\n",
        "                is_best = False\n",
        "            self.loss_history.append(loss)\n",
        "            self.error_history.append(error)\n",
        "            self.best_error = min(error, self.best_error)\n",
        "            print('Epoch:'+str(epoch),'  Loss:'+str(round(loss,3)),'  Val error:'+str(round(error,3)),'  Best val error:'+str(round(self.best_error,3)))\n",
        "            save_checkpoint({\n",
        "                'epoch': epoch,\n",
        "                'model_state_dict': self.model.state_dict(),\n",
        "                'optimizer_state_dict': self.optimizer.state_dict(),\n",
        "                'loss': loss,\n",
        "                'best_error': self.best_error,\n",
        "                'best_epoch': self.best_epoch\n",
        "            }, is_best, epoch, self.ckpt_name)\n",
        "            # break\n",
        "        return self.best_epoch, self.loss_history, self.error_history\n",
        "\n",
        "    def train_epoch(self, cur_epoch):        \n",
        "        losses = 0\n",
        "        self.model.train()\n",
        "        for bix, (data, target) in enumerate(self.train_loader):\n",
        "            # print(type(data),type(target))\n",
        "            # print(data, target)\n",
        "            (anchor, positive, negative) = data\n",
        "            anchor = anchor.to(device)\n",
        "            positive = positive.to(device)\n",
        "            negative = negative.to(device)\n",
        "            # plt.figure(dpi=100)\n",
        "            # plt.margins(0,0)\n",
        "            # plt.imshow(anchor[1][0].cpu().numpy())\n",
        "            # plt.figure(dpi=100)\n",
        "            # plt.margins(0,0)\n",
        "            # plt.imshow(positive[1][0].cpu().numpy())\n",
        "            # plt.figure(dpi=100)\n",
        "            # plt.margins(0,0)\n",
        "            # plt.imshow(negative[1][0].cpu().numpy())\n",
        "            with torch.set_grad_enabled(True):\n",
        "                out_a, out_p, out_n = self.model(anchor, positive, negative)\n",
        "                loss = self.criterion(out_a, out_p, out_n)\n",
        "                losses += loss.detach().cpu().item()\n",
        "                self.optimizer.zero_grad()\n",
        "                loss.backward()\n",
        "                self.optimizer.step()\n",
        "            torch.cuda.empty_cache()\n",
        "            gc.collect()\n",
        "            # break\n",
        "        # print(loss.item())\n",
        "        # input()\n",
        "        return losses/len(self.train_loader)\n",
        "    \n",
        "    def validate(self, cur_epoch):     \n",
        "        losses = 0\n",
        "        self.model.eval()\n",
        "        for bix, (data, target) in enumerate(self.train_loader):\n",
        "            (anchor, positive, negative) = data\n",
        "            anchor = anchor.to(device)\n",
        "            positive = positive.to(device)\n",
        "            negative = negative.to(device)\n",
        "            # plt.figure(dpi=10)\n",
        "            # plt.margins(0,0)\n",
        "            # plt.imshow(anchor[1][0].cpu().numpy())\n",
        "            # plt.figure(dpi=10)\n",
        "            # plt.margins(0,0)\n",
        "            # plt.imshow(positive[1][0].cpu().numpy())\n",
        "            # plt.figure(dpi=10)\n",
        "            # plt.margins(0,0)\n",
        "            # plt.imshow(negative[1][0].cpu().numpy())\n",
        "            with torch.set_grad_enabled(False):\n",
        "                out_a, out_p, out_n = self.model(anchor, positive, negative)\n",
        "                loss = self.criterion(out_a, out_p, out_n)\n",
        "                losses += loss.detach().cpu().item()\n",
        "            torch.cuda.empty_cache()\n",
        "            gc.collect()\n",
        "            # break\n",
        "        # print(loss.item())\n",
        "        # input()\n",
        "        return losses/len(self.train_loader)\n"
      ],
      "execution_count": null,
      "outputs": []
    },
    {
      "cell_type": "markdown",
      "metadata": {
        "id": "t2u33UoO_GsT"
      },
      "source": [
        "### Training SiameseNet with Triplet loss and Adam optimizer"
      ]
    },
    {
      "cell_type": "code",
      "metadata": {
        "colab": {
          "base_uri": "https://localhost:8080/",
          "height": 669
        },
        "id": "QzJFfc3MtQqs",
        "outputId": "c32607ba-6241-444e-dd12-53e4adff345e"
      },
      "source": [
        "\n",
        "tma_trainer = Triplet_Trainer(device, 'Trip_a', lr=0.001, epochs=20, optm='adam', mom=0.9)\n",
        "tma_best_epoch, tma_losses, tma_errors = tma_trainer.train()\n",
        "plot_train(tma_losses, tma_errors)\n",
        "print('Best epoch:',tma_best_epoch)"
      ],
      "execution_count": null,
      "outputs": [
        {
          "output_type": "stream",
          "text": [
            "cuda Tesla T4\n",
            "Epoch:0   Loss:0.301   Val error:0.184   Best val error:0.184\n",
            "Epoch:1   Loss:0.164   Val error:0.123   Best val error:0.123\n",
            "Epoch:2   Loss:0.134   Val error:0.111   Best val error:0.111\n",
            "Epoch:3   Loss:0.106   Val error:0.089   Best val error:0.089\n",
            "Epoch:4   Loss:0.088   Val error:0.059   Best val error:0.059\n",
            "Epoch:5   Loss:0.068   Val error:0.094   Best val error:0.059\n",
            "Epoch:6   Loss:0.067   Val error:0.056   Best val error:0.056\n",
            "Epoch:7   Loss:0.057   Val error:0.037   Best val error:0.037\n",
            "Epoch:8   Loss:0.043   Val error:0.041   Best val error:0.037\n",
            "Epoch:9   Loss:0.032   Val error:0.028   Best val error:0.028\n",
            "Epoch:10   Loss:0.039   Val error:0.057   Best val error:0.028\n",
            "Epoch:11   Loss:0.036   Val error:0.025   Best val error:0.025\n",
            "Epoch:12   Loss:0.029   Val error:0.021   Best val error:0.021\n",
            "Epoch:13   Loss:0.021   Val error:0.013   Best val error:0.013\n",
            "Epoch:14   Loss:0.02   Val error:0.027   Best val error:0.013\n",
            "Epoch:15   Loss:0.025   Val error:0.026   Best val error:0.013\n",
            "Epoch:16   Loss:0.022   Val error:0.019   Best val error:0.013\n",
            "Epoch:17   Loss:0.026   Val error:0.014   Best val error:0.013\n",
            "Epoch:18   Loss:0.018   Val error:0.01   Best val error:0.01\n",
            "Epoch:19   Loss:0.021   Val error:0.01   Best val error:0.01\n"
          ],
          "name": "stdout"
        },
        {
          "output_type": "display_data",
          "data": {
            "image/png": "[encoded data removed]",
            "text/plain": [
              "<Figure size 432x288 with 1 Axes>"
            ]
          },
          "metadata": {
            "tags": [],
            "needs_background": "light"
          }
        },
        {
          "output_type": "stream",
          "text": [
            "Best epoch: 18\n"
          ],
          "name": "stdout"
        }
      ]
    }
  ]
}